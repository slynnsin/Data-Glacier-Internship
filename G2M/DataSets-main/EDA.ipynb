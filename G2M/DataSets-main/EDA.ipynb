{
 "cells": [
  {
   "cell_type": "markdown",
   "id": "3940f4d3",
   "metadata": {},
   "source": [
    "# Exploratory Data Analysis\n",
    "\n",
    "### Background Information\n",
    "This analysis for XYZ, a private investing firm in the US, will take a look at possible cab companies for a future investment. \n",
    "\n",
    "\n",
    "### Objective\n",
    "Procure information about the cab industry for the Go-to-Market(G2M) strategy to choose a company to invest in.\n",
    "\n",
    "\n",
    "### Import Libraries"
   ]
  },
  {
   "cell_type": "code",
   "execution_count": 1,
   "id": "8b04d342",
   "metadata": {},
   "outputs": [],
   "source": [
    "# import libraries\n",
    "import numpy as np\n",
    "import pandas as pd\n",
    "import seaborn as sns\n",
    "\n",
    "import matplotlib \n",
    "import matplotlib.pyplot as plt\n",
    "plt.style.use('ggplot')\n",
    "from matplotlib.pyplot import figure\n",
    "\n",
    "from datetime import timedelta, datetime\n",
    "\n",
    "%matplotlib inline\n",
    "matplotlib.rcParams['figure.figsize'] = (12,8)\n",
    "# adjusts configuration of plots\n",
    "\n",
    "\n",
    "# read in data\n",
    "df_cab_data = pd.read_csv('Cab_Data.csv')\n",
    "df_customer_id = pd.read_csv('Customer_ID.csv')\n",
    "df_transaction_id = pd.read_csv('Transaction_ID.csv')\n",
    "df_city = pd.read_csv('City.csv')"
   ]
  },
  {
   "cell_type": "markdown",
   "id": "2995573d",
   "metadata": {},
   "source": [
    "### Inspecting the Data\n",
    "\n",
    "The files listed below are a compilation of data from two Cab companies from 2016 to 2018\n",
    "\n",
    "1. Cab_Data.csv\n",
    "2. Customer_ID.csv\n",
    "3. Transaction_ID.csv\n",
    "4. City.csv\n",
    "\n",
    "#### Cab_Data File "
   ]
  },
  {
   "cell_type": "code",
   "execution_count": 2,
   "id": "d1df1341",
   "metadata": {},
   "outputs": [
    {
     "data": {
      "text/html": [
       "<div>\n",
       "<style scoped>\n",
       "    .dataframe tbody tr th:only-of-type {\n",
       "        vertical-align: middle;\n",
       "    }\n",
       "\n",
       "    .dataframe tbody tr th {\n",
       "        vertical-align: top;\n",
       "    }\n",
       "\n",
       "    .dataframe thead th {\n",
       "        text-align: right;\n",
       "    }\n",
       "</style>\n",
       "<table border=\"1\" class=\"dataframe\">\n",
       "  <thead>\n",
       "    <tr style=\"text-align: right;\">\n",
       "      <th></th>\n",
       "      <th>Transaction ID</th>\n",
       "      <th>Date of Travel</th>\n",
       "      <th>Company</th>\n",
       "      <th>City</th>\n",
       "      <th>KM Travelled</th>\n",
       "      <th>Price Charged</th>\n",
       "      <th>Cost of Trip</th>\n",
       "    </tr>\n",
       "  </thead>\n",
       "  <tbody>\n",
       "    <tr>\n",
       "      <th>0</th>\n",
       "      <td>10000011</td>\n",
       "      <td>1/8/16</td>\n",
       "      <td>Pink Cab</td>\n",
       "      <td>ATLANTA GA</td>\n",
       "      <td>30.45</td>\n",
       "      <td>370.95</td>\n",
       "      <td>313.635</td>\n",
       "    </tr>\n",
       "    <tr>\n",
       "      <th>1</th>\n",
       "      <td>10000012</td>\n",
       "      <td>1/6/16</td>\n",
       "      <td>Pink Cab</td>\n",
       "      <td>ATLANTA GA</td>\n",
       "      <td>28.62</td>\n",
       "      <td>358.52</td>\n",
       "      <td>334.854</td>\n",
       "    </tr>\n",
       "    <tr>\n",
       "      <th>2</th>\n",
       "      <td>10000013</td>\n",
       "      <td>1/2/16</td>\n",
       "      <td>Pink Cab</td>\n",
       "      <td>ATLANTA GA</td>\n",
       "      <td>9.04</td>\n",
       "      <td>125.20</td>\n",
       "      <td>97.632</td>\n",
       "    </tr>\n",
       "    <tr>\n",
       "      <th>3</th>\n",
       "      <td>10000014</td>\n",
       "      <td>1/7/16</td>\n",
       "      <td>Pink Cab</td>\n",
       "      <td>ATLANTA GA</td>\n",
       "      <td>33.17</td>\n",
       "      <td>377.40</td>\n",
       "      <td>351.602</td>\n",
       "    </tr>\n",
       "    <tr>\n",
       "      <th>4</th>\n",
       "      <td>10000015</td>\n",
       "      <td>1/3/16</td>\n",
       "      <td>Pink Cab</td>\n",
       "      <td>ATLANTA GA</td>\n",
       "      <td>8.73</td>\n",
       "      <td>114.62</td>\n",
       "      <td>97.776</td>\n",
       "    </tr>\n",
       "  </tbody>\n",
       "</table>\n",
       "</div>"
      ],
      "text/plain": [
       "   Transaction ID Date of Travel   Company        City  KM Travelled  \\\n",
       "0        10000011         1/8/16  Pink Cab  ATLANTA GA         30.45   \n",
       "1        10000012         1/6/16  Pink Cab  ATLANTA GA         28.62   \n",
       "2        10000013         1/2/16  Pink Cab  ATLANTA GA          9.04   \n",
       "3        10000014         1/7/16  Pink Cab  ATLANTA GA         33.17   \n",
       "4        10000015         1/3/16  Pink Cab  ATLANTA GA          8.73   \n",
       "\n",
       "   Price Charged  Cost of Trip  \n",
       "0         370.95       313.635  \n",
       "1         358.52       334.854  \n",
       "2         125.20        97.632  \n",
       "3         377.40       351.602  \n",
       "4         114.62        97.776  "
      ]
     },
     "execution_count": 2,
     "metadata": {},
     "output_type": "execute_result"
    }
   ],
   "source": [
    "df_cab_data.head()"
   ]
  },
  {
   "cell_type": "code",
   "execution_count": 3,
   "id": "1434d324",
   "metadata": {},
   "outputs": [
    {
     "name": "stdout",
     "output_type": "stream",
     "text": [
      "<class 'pandas.core.frame.DataFrame'>\n",
      "RangeIndex: 359392 entries, 0 to 359391\n",
      "Data columns (total 7 columns):\n",
      " #   Column          Non-Null Count   Dtype  \n",
      "---  ------          --------------   -----  \n",
      " 0   Transaction ID  359392 non-null  int64  \n",
      " 1   Date of Travel  359392 non-null  object \n",
      " 2   Company         359392 non-null  object \n",
      " 3   City            359392 non-null  object \n",
      " 4   KM Travelled    359392 non-null  float64\n",
      " 5   Price Charged   359392 non-null  float64\n",
      " 6   Cost of Trip    359392 non-null  float64\n",
      "dtypes: float64(3), int64(1), object(3)\n",
      "memory usage: 19.2+ MB\n"
     ]
    }
   ],
   "source": [
    "df_cab_data.info()"
   ]
  },
  {
   "cell_type": "code",
   "execution_count": 4,
   "id": "0e3e3701",
   "metadata": {},
   "outputs": [
    {
     "name": "stdout",
     "output_type": "stream",
     "text": [
      "Names:  ['Pink Cab' 'Yellow Cab'] \n",
      "\n",
      "\n",
      "Cities:  ['ATLANTA GA' 'AUSTIN TX' 'BOSTON MA' 'CHICAGO IL' 'DALLAS TX' 'DENVER CO'\n",
      " 'LOS ANGELES CA' 'MIAMI FL' 'NASHVILLE TN' 'NEW YORK NY' 'ORANGE COUNTY'\n",
      " 'PHOENIX AZ' 'PITTSBURGH PA' 'SACRAMENTO CA' 'SAN DIEGO CA' 'SEATTLE WA'\n",
      " 'SILICON VALLEY' 'TUCSON AZ' 'WASHINGTON DC'] \n",
      "\n",
      "\n",
      "Number of cities:  19\n",
      "359392  is the number of total entries, therefore, there are no duplicate transactions.\n"
     ]
    }
   ],
   "source": [
    "# cab company names\n",
    "names = pd.unique(df_cab_data.Company)\n",
    "print('Names: ',names, '\\n\\n')\n",
    "\n",
    "# cities\n",
    "cities = pd.unique(df_cab_data.City)\n",
    "print('Cities: ', cities, '\\n\\n')\n",
    "len(cities)\n",
    "# number of cities\n",
    "print('Number of cities: ', len(cities))\n",
    "\n",
    "# checking for duplicate transaction IDs\n",
    "IDs = (pd.unique(df_cab_data['Transaction ID']))\n",
    "print(len(IDs), ' is the number of total entries, therefore, there are no duplicate transactions.')"
   ]
  },
  {
   "cell_type": "markdown",
   "id": "f0a6f374",
   "metadata": {},
   "source": [
    "#### Customer_ID File"
   ]
  },
  {
   "cell_type": "code",
   "execution_count": 5,
   "id": "6b1b4b9e",
   "metadata": {},
   "outputs": [
    {
     "data": {
      "text/html": [
       "<div>\n",
       "<style scoped>\n",
       "    .dataframe tbody tr th:only-of-type {\n",
       "        vertical-align: middle;\n",
       "    }\n",
       "\n",
       "    .dataframe tbody tr th {\n",
       "        vertical-align: top;\n",
       "    }\n",
       "\n",
       "    .dataframe thead th {\n",
       "        text-align: right;\n",
       "    }\n",
       "</style>\n",
       "<table border=\"1\" class=\"dataframe\">\n",
       "  <thead>\n",
       "    <tr style=\"text-align: right;\">\n",
       "      <th></th>\n",
       "      <th>Customer ID</th>\n",
       "      <th>Gender</th>\n",
       "      <th>Age</th>\n",
       "      <th>Income (USD/Month)</th>\n",
       "    </tr>\n",
       "  </thead>\n",
       "  <tbody>\n",
       "    <tr>\n",
       "      <th>0</th>\n",
       "      <td>29290</td>\n",
       "      <td>Male</td>\n",
       "      <td>28</td>\n",
       "      <td>10813</td>\n",
       "    </tr>\n",
       "    <tr>\n",
       "      <th>1</th>\n",
       "      <td>27703</td>\n",
       "      <td>Male</td>\n",
       "      <td>27</td>\n",
       "      <td>9237</td>\n",
       "    </tr>\n",
       "    <tr>\n",
       "      <th>2</th>\n",
       "      <td>28712</td>\n",
       "      <td>Male</td>\n",
       "      <td>53</td>\n",
       "      <td>11242</td>\n",
       "    </tr>\n",
       "    <tr>\n",
       "      <th>3</th>\n",
       "      <td>28020</td>\n",
       "      <td>Male</td>\n",
       "      <td>23</td>\n",
       "      <td>23327</td>\n",
       "    </tr>\n",
       "    <tr>\n",
       "      <th>4</th>\n",
       "      <td>27182</td>\n",
       "      <td>Male</td>\n",
       "      <td>33</td>\n",
       "      <td>8536</td>\n",
       "    </tr>\n",
       "  </tbody>\n",
       "</table>\n",
       "</div>"
      ],
      "text/plain": [
       "   Customer ID Gender  Age  Income (USD/Month)\n",
       "0        29290   Male   28               10813\n",
       "1        27703   Male   27                9237\n",
       "2        28712   Male   53               11242\n",
       "3        28020   Male   23               23327\n",
       "4        27182   Male   33                8536"
      ]
     },
     "execution_count": 5,
     "metadata": {},
     "output_type": "execute_result"
    }
   ],
   "source": [
    "df_customer_id.head()"
   ]
  },
  {
   "cell_type": "code",
   "execution_count": 6,
   "id": "14ad7610",
   "metadata": {},
   "outputs": [
    {
     "name": "stdout",
     "output_type": "stream",
     "text": [
      "<class 'pandas.core.frame.DataFrame'>\n",
      "RangeIndex: 49171 entries, 0 to 49170\n",
      "Data columns (total 4 columns):\n",
      " #   Column              Non-Null Count  Dtype \n",
      "---  ------              --------------  ----- \n",
      " 0   Customer ID         49171 non-null  int64 \n",
      " 1   Gender              49171 non-null  object\n",
      " 2   Age                 49171 non-null  int64 \n",
      " 3   Income (USD/Month)  49171 non-null  int64 \n",
      "dtypes: int64(3), object(1)\n",
      "memory usage: 1.5+ MB\n"
     ]
    }
   ],
   "source": [
    "df_customer_id.info()"
   ]
  },
  {
   "cell_type": "markdown",
   "id": "3133018b",
   "metadata": {},
   "source": [
    "#### Transaction_ID File"
   ]
  },
  {
   "cell_type": "code",
   "execution_count": 7,
   "id": "7f63f759",
   "metadata": {},
   "outputs": [
    {
     "data": {
      "text/html": [
       "<div>\n",
       "<style scoped>\n",
       "    .dataframe tbody tr th:only-of-type {\n",
       "        vertical-align: middle;\n",
       "    }\n",
       "\n",
       "    .dataframe tbody tr th {\n",
       "        vertical-align: top;\n",
       "    }\n",
       "\n",
       "    .dataframe thead th {\n",
       "        text-align: right;\n",
       "    }\n",
       "</style>\n",
       "<table border=\"1\" class=\"dataframe\">\n",
       "  <thead>\n",
       "    <tr style=\"text-align: right;\">\n",
       "      <th></th>\n",
       "      <th>Transaction ID</th>\n",
       "      <th>Customer ID</th>\n",
       "      <th>Payment_Mode</th>\n",
       "    </tr>\n",
       "  </thead>\n",
       "  <tbody>\n",
       "    <tr>\n",
       "      <th>0</th>\n",
       "      <td>10000011</td>\n",
       "      <td>29290</td>\n",
       "      <td>Card</td>\n",
       "    </tr>\n",
       "    <tr>\n",
       "      <th>1</th>\n",
       "      <td>10000012</td>\n",
       "      <td>27703</td>\n",
       "      <td>Card</td>\n",
       "    </tr>\n",
       "    <tr>\n",
       "      <th>2</th>\n",
       "      <td>10000013</td>\n",
       "      <td>28712</td>\n",
       "      <td>Cash</td>\n",
       "    </tr>\n",
       "    <tr>\n",
       "      <th>3</th>\n",
       "      <td>10000014</td>\n",
       "      <td>28020</td>\n",
       "      <td>Cash</td>\n",
       "    </tr>\n",
       "    <tr>\n",
       "      <th>4</th>\n",
       "      <td>10000015</td>\n",
       "      <td>27182</td>\n",
       "      <td>Card</td>\n",
       "    </tr>\n",
       "  </tbody>\n",
       "</table>\n",
       "</div>"
      ],
      "text/plain": [
       "   Transaction ID  Customer ID Payment_Mode\n",
       "0        10000011        29290         Card\n",
       "1        10000012        27703         Card\n",
       "2        10000013        28712         Cash\n",
       "3        10000014        28020         Cash\n",
       "4        10000015        27182         Card"
      ]
     },
     "execution_count": 7,
     "metadata": {},
     "output_type": "execute_result"
    }
   ],
   "source": [
    "df_transaction_id.head()"
   ]
  },
  {
   "cell_type": "code",
   "execution_count": 8,
   "id": "f8690634",
   "metadata": {},
   "outputs": [
    {
     "name": "stdout",
     "output_type": "stream",
     "text": [
      "<class 'pandas.core.frame.DataFrame'>\n",
      "RangeIndex: 440098 entries, 0 to 440097\n",
      "Data columns (total 3 columns):\n",
      " #   Column          Non-Null Count   Dtype \n",
      "---  ------          --------------   ----- \n",
      " 0   Transaction ID  440098 non-null  int64 \n",
      " 1   Customer ID     440098 non-null  int64 \n",
      " 2   Payment_Mode    440098 non-null  object\n",
      "dtypes: int64(2), object(1)\n",
      "memory usage: 10.1+ MB\n"
     ]
    }
   ],
   "source": [
    "df_transaction_id.info()"
   ]
  },
  {
   "cell_type": "markdown",
   "id": "63b1d737",
   "metadata": {},
   "source": [
    "#### City File"
   ]
  },
  {
   "cell_type": "code",
   "execution_count": 9,
   "id": "19963e5c",
   "metadata": {},
   "outputs": [
    {
     "data": {
      "text/html": [
       "<div>\n",
       "<style scoped>\n",
       "    .dataframe tbody tr th:only-of-type {\n",
       "        vertical-align: middle;\n",
       "    }\n",
       "\n",
       "    .dataframe tbody tr th {\n",
       "        vertical-align: top;\n",
       "    }\n",
       "\n",
       "    .dataframe thead th {\n",
       "        text-align: right;\n",
       "    }\n",
       "</style>\n",
       "<table border=\"1\" class=\"dataframe\">\n",
       "  <thead>\n",
       "    <tr style=\"text-align: right;\">\n",
       "      <th></th>\n",
       "      <th>City</th>\n",
       "      <th>Population</th>\n",
       "      <th>Users</th>\n",
       "    </tr>\n",
       "  </thead>\n",
       "  <tbody>\n",
       "    <tr>\n",
       "      <th>0</th>\n",
       "      <td>NEW YORK NY</td>\n",
       "      <td>8405837.0</td>\n",
       "      <td>302149.0</td>\n",
       "    </tr>\n",
       "    <tr>\n",
       "      <th>1</th>\n",
       "      <td>CHICAGO IL</td>\n",
       "      <td>1955130.0</td>\n",
       "      <td>164468.0</td>\n",
       "    </tr>\n",
       "    <tr>\n",
       "      <th>2</th>\n",
       "      <td>LOS ANGELES CA</td>\n",
       "      <td>1595037.0</td>\n",
       "      <td>144132.0</td>\n",
       "    </tr>\n",
       "    <tr>\n",
       "      <th>3</th>\n",
       "      <td>MIAMI FL</td>\n",
       "      <td>1339155.0</td>\n",
       "      <td>17675.0</td>\n",
       "    </tr>\n",
       "    <tr>\n",
       "      <th>4</th>\n",
       "      <td>SILICON VALLEY</td>\n",
       "      <td>1177609.0</td>\n",
       "      <td>27247.0</td>\n",
       "    </tr>\n",
       "  </tbody>\n",
       "</table>\n",
       "</div>"
      ],
      "text/plain": [
       "             City  Population     Users\n",
       "0     NEW YORK NY   8405837.0  302149.0\n",
       "1      CHICAGO IL   1955130.0  164468.0\n",
       "2  LOS ANGELES CA   1595037.0  144132.0\n",
       "3        MIAMI FL   1339155.0   17675.0\n",
       "4  SILICON VALLEY   1177609.0   27247.0"
      ]
     },
     "execution_count": 9,
     "metadata": {},
     "output_type": "execute_result"
    }
   ],
   "source": [
    "df_city.head()"
   ]
  },
  {
   "cell_type": "code",
   "execution_count": 10,
   "id": "f5677683",
   "metadata": {},
   "outputs": [
    {
     "name": "stdout",
     "output_type": "stream",
     "text": [
      "<class 'pandas.core.frame.DataFrame'>\n",
      "RangeIndex: 20 entries, 0 to 19\n",
      "Data columns (total 3 columns):\n",
      " #   Column      Non-Null Count  Dtype  \n",
      "---  ------      --------------  -----  \n",
      " 0   City        20 non-null     object \n",
      " 1   Population  20 non-null     float64\n",
      " 2   Users       20 non-null     float64\n",
      "dtypes: float64(2), object(1)\n",
      "memory usage: 608.0+ bytes\n"
     ]
    }
   ],
   "source": [
    "df_city.info()"
   ]
  },
  {
   "cell_type": "code",
   "execution_count": 11,
   "id": "30e3dc10",
   "metadata": {},
   "outputs": [
    {
     "name": "stdout",
     "output_type": "stream",
     "text": [
      "Cities:  ['NEW YORK NY' 'CHICAGO IL' 'LOS ANGELES CA' 'MIAMI FL' 'SILICON VALLEY'\n",
      " 'ORANGE COUNTY' 'SAN DIEGO CA' 'PHOENIX AZ' 'DALLAS TX' 'ATLANTA GA'\n",
      " 'DENVER CO' 'AUSTIN TX' 'SEATTLE WA' 'TUCSON AZ' 'SAN FRANCISCO CA'\n",
      " 'SACRAMENTO CA' 'PITTSBURGH PA' 'WASHINGTON DC' 'NASHVILLE TN'\n",
      " 'BOSTON MA'] \n",
      "\n",
      "\n",
      "Number of cities:  20\n"
     ]
    }
   ],
   "source": [
    "# cities\n",
    "cities1 = pd.unique(df_city.City)\n",
    "print('Cities: ', cities1, '\\n\\n')\n",
    "len(cities1)\n",
    "# number of cities\n",
    "print('Number of cities: ', len(cities1))"
   ]
  },
  {
   "cell_type": "markdown",
   "id": "7fa07565",
   "metadata": {},
   "source": [
    "### Hypothesis\n",
    "- Null hypothesis: there will not be a difference in the number of trips made per city between the two companies.\n",
    "- Alternative hypothesis: one company will have more trips per city than the other.\n",
    "\n",
    "\n",
    "\n",
    "### Exploratory Data Analysis\n",
    "To investigate this potential relationship, Cab_Data.csv and City.csv will be examined. "
   ]
  },
  {
   "cell_type": "code",
   "execution_count": 12,
   "id": "01cf0f1e",
   "metadata": {},
   "outputs": [
    {
     "data": {
      "text/plain": [
       "NEW YORK NY       99885\n",
       "CHICAGO IL        56625\n",
       "LOS ANGELES CA    48033\n",
       "WASHINGTON DC     43737\n",
       "BOSTON MA         29692\n",
       "SAN DIEGO CA      20488\n",
       "SILICON VALLEY     8519\n",
       "SEATTLE WA         7997\n",
       "ATLANTA GA         7557\n",
       "DALLAS TX          7017\n",
       "MIAMI FL           6454\n",
       "AUSTIN TX          4896\n",
       "ORANGE COUNTY      3982\n",
       "DENVER CO          3825\n",
       "NASHVILLE TN       3010\n",
       "SACRAMENTO CA      2367\n",
       "PHOENIX AZ         2064\n",
       "TUCSON AZ          1931\n",
       "PITTSBURGH PA      1313\n",
       "Name: City, dtype: int64"
      ]
     },
     "execution_count": 12,
     "metadata": {},
     "output_type": "execute_result"
    }
   ],
   "source": [
    "df_cab_data.City.value_counts()"
   ]
  },
  {
   "cell_type": "code",
   "execution_count": 13,
   "id": "34988e41",
   "metadata": {},
   "outputs": [
    {
     "data": {
      "image/png": "[encoded data removed]",
      "text/plain": [
       "<Figure size 864x576 with 1 Axes>"
      ]
     },
     "metadata": {
      "needs_background": "light"
     },
     "output_type": "display_data"
    }
   ],
   "source": [
    "pink_cities = df_cab_data[df_cab_data['Company']=='Pink Cab']\n",
    "pink_cities2 = pink_cities.City.value_counts()\n",
    "plt.plot(pink_cities2, 'om')\n",
    "\n",
    "\n",
    "plt.xticks(rotation=45)\n",
    "plt.scatter(pink_cities2.index, pink_cities2.values)\n",
    "\n",
    "yellow_cities = df_cab_data[df_cab_data['Company']=='Yellow Cab']\n",
    "yellow_cities2 = yellow_cities.City.value_counts()\n",
    "\n",
    "plt.plot(yellow_cities2, 'oy')\n",
    "\n",
    "plt.scatter(yellow_cities2.index, yellow_cities2.values)\n",
    "\n",
    "plt.title(\"Rides in Cities by Company\")\n",
    "plt.xlabel(\"Cities\")\n",
    "plt.ylabel(\"Transactions per City\")\n",
    "plt.show()"
   ]
  },
  {
   "cell_type": "markdown",
   "id": "cdfa4964",
   "metadata": {},
   "source": [
    "The scatterplot above supports the alternative hypothesis, that the Yellow Cab company for the most part had more trips in most cities. The totals below also show that the Yellow Cab company had many more transactions recorded in this data."
   ]
  },
  {
   "cell_type": "code",
   "execution_count": 14,
   "id": "8089c33e",
   "metadata": {},
   "outputs": [
    {
     "name": "stdout",
     "output_type": "stream",
     "text": [
      "Pink Cab Rides:  84711\n",
      "Yellow Cab Rides:  274681\n"
     ]
    }
   ],
   "source": [
    "pink_rides = len(pink_cities)\n",
    "yellow_rides = len(yellow_cities)\n",
    "\n",
    "print('Pink Cab Rides: ', pink_rides)\n",
    "print('Yellow Cab Rides: ', yellow_rides)"
   ]
  },
  {
   "cell_type": "markdown",
   "id": "0066986f",
   "metadata": {},
   "source": [
    "### Hypothesis\n",
    "- Null hypothesis: there will not be a difference in the total income of trips made per city between the two companies.\n",
    "- Alternative hypothesis: one company will have made more money per city than the other.\n",
    "\n",
    "\n",
    "\n",
    "### Exploratory Data Analysis\n",
    "To investigate this potential relationship, Cab_Data.csv and City.csv will be examined. "
   ]
  },
  {
   "cell_type": "code",
   "execution_count": 15,
   "id": "4024e317",
   "metadata": {},
   "outputs": [
    {
     "data": {
      "image/png": "[encoded data removed]",
      "text/plain": [
       "<Figure size 864x576 with 1 Axes>"
      ]
     },
     "metadata": {
      "needs_background": "light"
     },
     "output_type": "display_data"
    }
   ],
   "source": [
    "pink_cities = df_cab_data[df_cab_data['Company']=='Pink Cab']\n",
    "pink_cities2 = pink_cities.groupby(['City'])[\"Cost of Trip\"].sum()\n",
    "plt.plot(pink_cities2, 'om')\n",
    "\n",
    "plt.xticks(rotation=45)\n",
    "plt.scatter(pink_cities2.index, pink_cities2.values)\n",
    "\n",
    "yellow_cities = df_cab_data[df_cab_data['Company']=='Yellow Cab']\n",
    "yellow_cities2 = yellow_cities.groupby(['City'])[\"Cost of Trip\"].sum()\n",
    "plt.plot(yellow_cities2, 'oy')\n",
    "\n",
    "plt.scatter(yellow_cities2.index, yellow_cities2.values)\n",
    "\n",
    "plt.title(\"Trip Income per City\")\n",
    "plt.xlabel(\"Cities\")\n",
    "plt.ylabel(\"Total of Transactions\")\n",
    "plt.show()"
   ]
  },
  {
   "cell_type": "markdown",
   "id": "8d51a232",
   "metadata": {},
   "source": [
    "The scatterplot above supports the alternative hypothesis, the Yellow Cab company made more money per city than the Pink Cab company. The totals below also support the alternative hypothesis because the Yellow Cab company had a higher income during this time."
   ]
  },
  {
   "cell_type": "code",
   "execution_count": 16,
   "id": "db1390bc",
   "metadata": {},
   "outputs": [
    {
     "name": "stdout",
     "output_type": "stream",
     "text": [
      "Pink Cab Total Cost of Trips:  21020923.009000227\n",
      "Yellow Cab Total Cost of Trips:  81833514.01919927\n"
     ]
    }
   ],
   "source": [
    "pink_money = sum(pink_cities['Cost of Trip'])\n",
    "yellow_money = sum(yellow_cities['Cost of Trip'])\n",
    "\n",
    "print('Pink Cab Total Cost of Trips: ', pink_money)\n",
    "print('Yellow Cab Total Cost of Trips: ', yellow_money)"
   ]
  },
  {
   "cell_type": "markdown",
   "id": "c7efec47",
   "metadata": {},
   "source": [
    "### Conclusion\n",
    "Based on the analyses above, the Yellow Cab company had more rides and more total income according to the data provided."
   ]
  },
  {
   "cell_type": "markdown",
   "id": "8acf7ea4",
   "metadata": {},
   "source": [
    "### Hypothesis\n",
    "- Null hypothesis: neither company has shown an increase in growth over the time the data was collected.\n",
    "- Alternative hypothesis: one of the companies has shown increased growth during the time period the data was collected.\n",
    "\n",
    "### Exploratory Data Analysis\n",
    "To investigate the potential relationship, the Transaction ID file and the Cab Data file will be used."
   ]
  },
  {
   "cell_type": "code",
   "execution_count": 17,
   "id": "5c720a17",
   "metadata": {},
   "outputs": [
    {
     "data": {
      "text/html": [
       "<div>\n",
       "<style scoped>\n",
       "    .dataframe tbody tr th:only-of-type {\n",
       "        vertical-align: middle;\n",
       "    }\n",
       "\n",
       "    .dataframe tbody tr th {\n",
       "        vertical-align: top;\n",
       "    }\n",
       "\n",
       "    .dataframe thead th {\n",
       "        text-align: right;\n",
       "    }\n",
       "</style>\n",
       "<table border=\"1\" class=\"dataframe\">\n",
       "  <thead>\n",
       "    <tr style=\"text-align: right;\">\n",
       "      <th></th>\n",
       "      <th>Transaction ID</th>\n",
       "      <th>Date of Travel</th>\n",
       "      <th>Company</th>\n",
       "      <th>City</th>\n",
       "      <th>KM Travelled</th>\n",
       "      <th>Price Charged</th>\n",
       "      <th>Cost of Trip</th>\n",
       "      <th>Customer ID</th>\n",
       "      <th>Payment_Mode</th>\n",
       "    </tr>\n",
       "  </thead>\n",
       "  <tbody>\n",
       "    <tr>\n",
       "      <th>0</th>\n",
       "      <td>10000011</td>\n",
       "      <td>2016-01-08</td>\n",
       "      <td>Pink Cab</td>\n",
       "      <td>ATLANTA GA</td>\n",
       "      <td>30.45</td>\n",
       "      <td>370.95</td>\n",
       "      <td>313.635</td>\n",
       "      <td>29290</td>\n",
       "      <td>Card</td>\n",
       "    </tr>\n",
       "    <tr>\n",
       "      <th>1</th>\n",
       "      <td>10000012</td>\n",
       "      <td>2016-01-06</td>\n",
       "      <td>Pink Cab</td>\n",
       "      <td>ATLANTA GA</td>\n",
       "      <td>28.62</td>\n",
       "      <td>358.52</td>\n",
       "      <td>334.854</td>\n",
       "      <td>27703</td>\n",
       "      <td>Card</td>\n",
       "    </tr>\n",
       "    <tr>\n",
       "      <th>2</th>\n",
       "      <td>10000013</td>\n",
       "      <td>2016-01-02</td>\n",
       "      <td>Pink Cab</td>\n",
       "      <td>ATLANTA GA</td>\n",
       "      <td>9.04</td>\n",
       "      <td>125.20</td>\n",
       "      <td>97.632</td>\n",
       "      <td>28712</td>\n",
       "      <td>Cash</td>\n",
       "    </tr>\n",
       "    <tr>\n",
       "      <th>3</th>\n",
       "      <td>10000014</td>\n",
       "      <td>2016-01-07</td>\n",
       "      <td>Pink Cab</td>\n",
       "      <td>ATLANTA GA</td>\n",
       "      <td>33.17</td>\n",
       "      <td>377.40</td>\n",
       "      <td>351.602</td>\n",
       "      <td>28020</td>\n",
       "      <td>Cash</td>\n",
       "    </tr>\n",
       "    <tr>\n",
       "      <th>4</th>\n",
       "      <td>10000015</td>\n",
       "      <td>2016-01-03</td>\n",
       "      <td>Pink Cab</td>\n",
       "      <td>ATLANTA GA</td>\n",
       "      <td>8.73</td>\n",
       "      <td>114.62</td>\n",
       "      <td>97.776</td>\n",
       "      <td>27182</td>\n",
       "      <td>Card</td>\n",
       "    </tr>\n",
       "  </tbody>\n",
       "</table>\n",
       "</div>"
      ],
      "text/plain": [
       "   Transaction ID Date of Travel   Company        City  KM Travelled  \\\n",
       "0        10000011     2016-01-08  Pink Cab  ATLANTA GA         30.45   \n",
       "1        10000012     2016-01-06  Pink Cab  ATLANTA GA         28.62   \n",
       "2        10000013     2016-01-02  Pink Cab  ATLANTA GA          9.04   \n",
       "3        10000014     2016-01-07  Pink Cab  ATLANTA GA         33.17   \n",
       "4        10000015     2016-01-03  Pink Cab  ATLANTA GA          8.73   \n",
       "\n",
       "   Price Charged  Cost of Trip  Customer ID Payment_Mode  \n",
       "0         370.95       313.635        29290         Card  \n",
       "1         358.52       334.854        27703         Card  \n",
       "2         125.20        97.632        28712         Cash  \n",
       "3         377.40       351.602        28020         Cash  \n",
       "4         114.62        97.776        27182         Card  "
      ]
     },
     "execution_count": 17,
     "metadata": {},
     "output_type": "execute_result"
    }
   ],
   "source": [
    "# merge the two tables to create a new table\n",
    "t_c_df = pd.merge(df_cab_data, df_transaction_id)\n",
    "t_c_df['Date of Travel'] = pd.to_datetime(t_c_df['Date of Travel'], format='%m/%d/%y')\n",
    "\n",
    "t_c_df.head()"
   ]
  },
  {
   "cell_type": "code",
   "execution_count": 51,
   "id": "05ca4a8a",
   "metadata": {},
   "outputs": [],
   "source": [
    "years = []\n",
    "for year in range(len(t_c_df['Date of Travel'])):\n",
    "    years.append(t_c_df['Date of Travel'][year].year)\n",
    "    \n",
    "t_c_df['Year'] = years"
   ]
  },
  {
   "cell_type": "code",
   "execution_count": 67,
   "id": "50f45381",
   "metadata": {},
   "outputs": [
    {
     "data": {
      "image/png": "[encoded data removed]",
      "text/plain": [
       "<Figure size 864x576 with 2 Axes>"
      ]
     },
     "metadata": {
      "needs_background": "light"
     },
     "output_type": "display_data"
    }
   ],
   "source": [
    "pink_years = t_c_df[t_c_df['Company']=='Pink Cab']\n",
    "pink_years2 = pink_years.Year.value_counts()\n",
    "plt.subplot(1,2,1)\n",
    "plt.bar(pink_years2.index, pink_years2.values, color = \"hotpink\")\n",
    "\n",
    "plt.xlabel(\"Years\")\n",
    "plt.ylabel(\"Transactions per Year\")\n",
    "\n",
    "yellow_years = t_c_df[t_c_df['Company']=='Yellow Cab']\n",
    "yellow_years2 = yellow_years.Year.value_counts()\n",
    "plt.subplot(1,2,2)\n",
    "plt.bar(yellow_years2.index, yellow_years2.values, color = \"yellow\")\n",
    "\n",
    "plt.xlabel(\"Years\")\n",
    "plt.ylabel(\"Transactions per Year\")\n",
    "plt.show()"
   ]
  },
  {
   "cell_type": "code",
   "execution_count": 71,
   "id": "a63ef257",
   "metadata": {},
   "outputs": [
    {
     "data": {
      "image/png": "[encoded data removed]",
      "text/plain": [
       "<Figure size 864x576 with 2 Axes>"
      ]
     },
     "metadata": {
      "needs_background": "light"
     },
     "output_type": "display_data"
    }
   ],
   "source": [
    "pink_years = t_c_df[t_c_df['Company']=='Pink Cab']\n",
    "pink_years2 = pink_years.groupby(['Year'])[\"Cost of Trip\"].sum()\n",
    "plt.subplot(1,2,1)\n",
    "plt.bar(pink_years2.index, pink_years2.values, color = \"hotpink\")\n",
    "\n",
    "plt.xlabel(\"Years\")\n",
    "plt.ylabel(\"Total Cost of Transactions per Year\")\n",
    "\n",
    "yellow_years = t_c_df[t_c_df['Company']=='Yellow Cab']\n",
    "yellow_years2 = yellow_years.groupby(['Year'])[\"Cost of Trip\"].sum()\n",
    "plt.subplot(1,2,2)\n",
    "plt.bar(yellow_years2.index, yellow_years2.values, color = \"yellow\")\n",
    "\n",
    "plt.xlabel(\"Years\")\n",
    "plt.ylabel(\"Transactions per Year\")\n",
    "plt.show()"
   ]
  },
  {
   "cell_type": "markdown",
   "id": "34b4361a",
   "metadata": {},
   "source": [
    "#### Conclusion\n",
    "The bar graphs show that the Yellow Cab company has more rapidly increased their rides and income during this period of time, which supports the alternative hypothesis."
   ]
  }
 ],
 "metadata": {
  "kernelspec": {
   "display_name": "Python 3 (ipykernel)",
   "language": "python",
   "name": "python3"
  },
  "language_info": {
   "codemirror_mode": {
    "name": "ipython",
    "version": 3
   },
   "file_extension": ".py",
   "mimetype": "text/x-python",
   "name": "python",
   "nbconvert_exporter": "python",
   "pygments_lexer": "ipython3",
   "version": "3.9.12"
  }
 },
 "nbformat": 4,
 "nbformat_minor": 5
}
